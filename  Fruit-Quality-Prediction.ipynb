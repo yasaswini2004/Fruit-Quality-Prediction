{
  "metadata": {
    "kernelspec": {
      "language": "python",
      "display_name": "Python 3",
      "name": "python3"
    },
    "language_info": {
      "name": "python",
      "version": "3.10.13",
      "mimetype": "text/x-python",
      "codemirror_mode": {
        "name": "ipython",
        "version": 3
      },
      "pygments_lexer": "ipython3",
      "nbconvert_exporter": "python",
      "file_extension": ".py"
    },
    "kaggle": {
      "accelerator": "none",
      "dataSources": [
        {
          "sourceId": 70769,
          "databundleVersionId": 7731816,
          "sourceType": "competition"
        }
      ],
      "dockerImageVersionId": 30646,
      "isInternetEnabled": true,
      "language": "python",
      "sourceType": "notebook",
      "isGpuEnabled": false
    },
    "colab": {
      "name": "notebook7d62cfc04f",
      "provenance": [],
      "include_colab_link": true
    }
  },
  "nbformat_minor": 0,
  "nbformat": 4,
  "cells": [
    {
      "cell_type": "markdown",
      "metadata": {
        "id": "view-in-github",
        "colab_type": "text"
      },
      "source": [
        "<a href=\"https://colab.research.google.com/github/yasaswini2004/Fruit-Quality-Prediction/blob/main/%20Fruit-Quality-Prediction.ipynb\" target=\"_parent\"><img src=\"https://colab.research.google.com/assets/colab-badge.svg\" alt=\"Open In Colab\"/></a>"
      ]
    },
    {
      "source": [
        "\n",
        "# IMPORTANT: RUN THIS CELL IN ORDER TO IMPORT YOUR KAGGLE DATA SOURCES\n",
        "# TO THE CORRECT LOCATION (/kaggle/input) IN YOUR NOTEBOOK,\n",
        "# THEN FEEL FREE TO DELETE THIS CELL.\n",
        "# NOTE: THIS NOTEBOOK ENVIRONMENT DIFFERS FROM KAGGLE'S PYTHON\n",
        "# ENVIRONMENT SO THERE MAY BE MISSING LIBRARIES USED BY YOUR\n",
        "# NOTEBOOK.\n",
        "\n",
        "import os\n",
        "import sys\n",
        "from tempfile import NamedTemporaryFile\n",
        "from urllib.request import urlopen\n",
        "from urllib.parse import unquote, urlparse\n",
        "from urllib.error import HTTPError\n",
        "from zipfile import ZipFile\n",
        "import tarfile\n",
        "import shutil\n",
        "\n",
        "CHUNK_SIZE = 40960\n",
        "DATA_SOURCE_MAPPING = 'aids-data-quest-society:https%3A%2F%2Fstorage.googleapis.com%2Fkaggle-competitions-data%2Fkaggle-v2%2F70769%2F7731816%2Fbundle%2Farchive.zip%3FX-Goog-Algorithm%3DGOOG4-RSA-SHA256%26X-Goog-Credential%3Dgcp-kaggle-com%2540kaggle-161607.iam.gserviceaccount.com%252F20240331%252Fauto%252Fstorage%252Fgoog4_request%26X-Goog-Date%3D20240331T105825Z%26X-Goog-Expires%3D259200%26X-Goog-SignedHeaders%3Dhost%26X-Goog-Signature%3D4a0d1c682dc785ca0cf6cfa539c9d55c0d825c34762dd4468f235c90d39df0a7555007f692a68600adc0835875ddb050706ab0d6cc57d4bcbfc6884224a640d967a7d7780f049c7f4b397f7f13049fdd7868ea230d9ba7fdd278796daad66e1aa82a3dbc58ca155f74b7ba4b422b470c411feca235717448d860d2eca8c262d9931fd598427f5e4dadf59c6c6103a5fd5066471ad04e485491d9efac5c542388fd421a129d712c8c2bd575957c36e7778a32d18d906637f52bbe24ac1b7a797778deaea2237bb76bb6a5dfc0e61453dec47f0e13e4d1deb8b3d90cfc909a5132b2fa95a0199077bbe2d9ed650fa0d2f404b8f0f89eb7f775203f1e233d841e0f'\n",
        "\n",
        "KAGGLE_INPUT_PATH='/kaggle/input'\n",
        "KAGGLE_WORKING_PATH='/kaggle/working'\n",
        "KAGGLE_SYMLINK='kaggle'\n",
        "\n",
        "!umount /kaggle/input/ 2> /dev/null\n",
        "shutil.rmtree('/kaggle/input', ignore_errors=True)\n",
        "os.makedirs(KAGGLE_INPUT_PATH, 0o777, exist_ok=True)\n",
        "os.makedirs(KAGGLE_WORKING_PATH, 0o777, exist_ok=True)\n",
        "\n",
        "try:\n",
        "  os.symlink(KAGGLE_INPUT_PATH, os.path.join(\"..\", 'input'), target_is_directory=True)\n",
        "except FileExistsError:\n",
        "  pass\n",
        "try:\n",
        "  os.symlink(KAGGLE_WORKING_PATH, os.path.join(\"..\", 'working'), target_is_directory=True)\n",
        "except FileExistsError:\n",
        "  pass\n",
        "\n",
        "for data_source_mapping in DATA_SOURCE_MAPPING.split(','):\n",
        "    directory, download_url_encoded = data_source_mapping.split(':')\n",
        "    download_url = unquote(download_url_encoded)\n",
        "    filename = urlparse(download_url).path\n",
        "    destination_path = os.path.join(KAGGLE_INPUT_PATH, directory)\n",
        "    try:\n",
        "        with urlopen(download_url) as fileres, NamedTemporaryFile() as tfile:\n",
        "            total_length = fileres.headers['content-length']\n",
        "            print(f'Downloading {directory}, {total_length} bytes compressed')\n",
        "            dl = 0\n",
        "            data = fileres.read(CHUNK_SIZE)\n",
        "            while len(data) > 0:\n",
        "                dl += len(data)\n",
        "                tfile.write(data)\n",
        "                done = int(50 * dl / int(total_length))\n",
        "                sys.stdout.write(f\"\\r[{'=' * done}{' ' * (50-done)}] {dl} bytes downloaded\")\n",
        "                sys.stdout.flush()\n",
        "                data = fileres.read(CHUNK_SIZE)\n",
        "            if filename.endswith('.zip'):\n",
        "              with ZipFile(tfile) as zfile:\n",
        "                zfile.extractall(destination_path)\n",
        "            else:\n",
        "              with tarfile.open(tfile.name) as tarfile:\n",
        "                tarfile.extractall(destination_path)\n",
        "            print(f'\\nDownloaded and uncompressed: {directory}')\n",
        "    except HTTPError as e:\n",
        "        print(f'Failed to load (likely expired) {download_url} to path {destination_path}')\n",
        "        continue\n",
        "    except OSError as e:\n",
        "        print(f'Failed to load {download_url} to path {destination_path}')\n",
        "        continue\n",
        "\n",
        "print('Data source import complete.')\n"
      ],
      "metadata": {
        "id": "GlYr6H07KSQ5"
      },
      "cell_type": "code",
      "outputs": [],
      "execution_count": null
    },
    {
      "cell_type": "code",
      "source": [
        "# This Python 3 environment comes with many helpful analytics libraries installed\n",
        "# It is defined by the kaggle/python Docker image: https://github.com/kaggle/docker-python\n",
        "# For example, here's several helpful packages to load\n",
        "\n",
        "import numpy as np # linear algebra\n",
        "import pandas as pd # data processing, CSV file I/O (e.g. pd.read_csv)\n",
        "import matplotlib.pyplot as plt\n",
        "import seaborn as sns\n",
        "from sklearn.preprocessing import MinMaxScaler\n",
        "from sklearn.model_selection import train_test_split\n",
        "import tensorflow as tf\n",
        "import keras\n",
        "from keras import layers\n",
        "\n",
        "# Input data files are available in the read-only \"../input/\" directory\n",
        "# For example, running this (by clicking run or pressing Shift+Enter) will list all files under the input directory\n",
        "\n",
        "import os\n",
        "for dirname, _, filenames in os.walk('/kaggle/input'):\n",
        "    for filename in filenames:\n",
        "        print(os.path.join(dirname, filename))\n",
        "\n",
        "# You can write up to 20GB to the current directory (/kaggle/working/) that gets preserved as output when you create a version using \"Save & Run All\"\n",
        "# You can also write temporary files to /kaggle/temp/, but they won't be saved outside of the current session"
      ],
      "metadata": {
        "_uuid": "8f2839f25d086af736a60e9eeb907d3b93b6e0e5",
        "_cell_guid": "b1076dfc-b9ad-4769-8c92-a6c4dae69d19",
        "execution": {
          "iopub.status.busy": "2024-02-25T11:09:11.853991Z",
          "iopub.execute_input": "2024-02-25T11:09:11.854714Z",
          "iopub.status.idle": "2024-02-25T11:09:11.864938Z",
          "shell.execute_reply.started": "2024-02-25T11:09:11.854681Z",
          "shell.execute_reply": "2024-02-25T11:09:11.863602Z"
        },
        "trusted": true,
        "id": "CeE1rNHhKSQ7"
      },
      "execution_count": null,
      "outputs": []
    },
    {
      "cell_type": "code",
      "source": [
        "train_df = pd.read_csv('/content/train_ds.csv', index_col=0)\n",
        "train_df.dropna(inplace=True)\n",
        "train_df['Acidity'] = train_df['Acidity'].astype(float)\n",
        "train_df['Quality'] = train_df['Quality'].map({\"good\": 1, \"bad\": 0})\n",
        "plt.rcParams['figure.figsize']=[20,10]\n",
        "train_df.hist()\n",
        "plt.show"
      ],
      "metadata": {
        "execution": {
          "iopub.status.busy": "2024-02-25T11:56:30.552087Z",
          "iopub.execute_input": "2024-02-25T11:56:30.552511Z",
          "iopub.status.idle": "2024-02-25T11:56:32.537716Z",
          "shell.execute_reply.started": "2024-02-25T11:56:30.552482Z",
          "shell.execute_reply": "2024-02-25T11:56:32.536701Z"
        },
        "trusted": true,
        "id": "8Akj19eDKSQ8"
      },
      "execution_count": null,
      "outputs": []
    },
    {
      "cell_type": "code",
      "source": [
        "plt.rcParams['figure.figsize']=[20,30]\n",
        "train_df.plot(kind='density',subplots=True,sharex=True)\n",
        "plt.show()"
      ],
      "metadata": {
        "execution": {
          "iopub.status.busy": "2024-02-25T11:56:37.468141Z",
          "iopub.execute_input": "2024-02-25T11:56:37.469344Z",
          "iopub.status.idle": "2024-02-25T11:56:40.496915Z",
          "shell.execute_reply.started": "2024-02-25T11:56:37.469303Z",
          "shell.execute_reply": "2024-02-25T11:56:40.493725Z"
        },
        "trusted": true,
        "id": "k6gIKHTsKSQ9"
      },
      "execution_count": null,
      "outputs": []
    },
    {
      "cell_type": "code",
      "source": [
        "scaler = MinMaxScaler(feature_range=(0,1))\n",
        "scaled_train = scaler.fit_transform(train_df.iloc[:, :-1])\n",
        "x_train = scaled_train\n",
        "y_train = train_df['Quality'].values\n",
        "input_shape = [x_train.shape[1]]"
      ],
      "metadata": {
        "execution": {
          "iopub.status.busy": "2024-02-25T11:56:50.897484Z",
          "iopub.execute_input": "2024-02-25T11:56:50.897996Z",
          "iopub.status.idle": "2024-02-25T11:56:50.911368Z",
          "shell.execute_reply.started": "2024-02-25T11:56:50.89795Z",
          "shell.execute_reply": "2024-02-25T11:56:50.910191Z"
        },
        "trusted": true,
        "id": "tsK4ZH8dKSQ9"
      },
      "execution_count": null,
      "outputs": []
    },
    {
      "cell_type": "code",
      "source": [
        "model = keras.Sequential([\n",
        "    layers.BatchNormalization(input_shape=input_shape),\n",
        "    layers.Dense(units=256, activation='relu'),\n",
        "    layers.BatchNormalization(),\n",
        "    layers.Dropout(0.3),\n",
        "    layers.Dense(units=128, activation='relu'),\n",
        "    layers.BatchNormalization(),\n",
        "    layers.Dropout(0.3),\n",
        "    layers.Dense(units=64, activation='relu'),\n",
        "    layers.Dense(units=1, activation='sigmoid')\n",
        "])\n",
        "model.summary()"
      ],
      "metadata": {
        "execution": {
          "iopub.status.busy": "2024-02-25T11:57:54.168793Z",
          "iopub.execute_input": "2024-02-25T11:57:54.169414Z",
          "iopub.status.idle": "2024-02-25T11:57:54.348266Z",
          "shell.execute_reply.started": "2024-02-25T11:57:54.169354Z",
          "shell.execute_reply": "2024-02-25T11:57:54.347048Z"
        },
        "trusted": true,
        "id": "8-QOSyNzKSQ-"
      },
      "execution_count": null,
      "outputs": []
    },
    {
      "cell_type": "code",
      "source": [
        "model.summary()\n",
        "model.compile(\n",
        "    optimizer='adam',\n",
        "    loss='binary_crossentropy',\n",
        "    metrics='binary_accuracy'\n",
        ")\n",
        "history = model.fit(\n",
        "    x_train, y_train,\n",
        "    batch_size=64,\n",
        "    epochs=100,\n",
        "    callbacks=[keras.callbacks.EarlyStopping(patience=10, min_delta=0.001, restore_best_weights=True)]\n",
        ")"
      ],
      "metadata": {
        "execution": {
          "iopub.status.busy": "2024-02-25T11:57:57.734823Z",
          "iopub.execute_input": "2024-02-25T11:57:57.735233Z",
          "iopub.status.idle": "2024-02-25T11:58:20.030871Z",
          "shell.execute_reply.started": "2024-02-25T11:57:57.735202Z",
          "shell.execute_reply": "2024-02-25T11:58:20.029725Z"
        },
        "trusted": true,
        "id": "7RCXvRAXKSQ_"
      },
      "execution_count": null,
      "outputs": []
    },
    {
      "cell_type": "code",
      "source": [
        "test_df = pd.read_csv('/content/test_ds.csv')"
      ],
      "metadata": {
        "execution": {
          "iopub.status.busy": "2024-02-25T11:58:20.08584Z",
          "iopub.execute_input": "2024-02-25T11:58:20.086259Z",
          "iopub.status.idle": "2024-02-25T11:58:20.095763Z",
          "shell.execute_reply.started": "2024-02-25T11:58:20.086227Z",
          "shell.execute_reply": "2024-02-25T11:58:20.094641Z"
        },
        "trusted": true,
        "id": "n1jlpEjbKSQ_"
      },
      "execution_count": null,
      "outputs": []
    },
    {
      "cell_type": "code",
      "source": [
        "test_df.dropna(inplace=True)\n",
        "scaled_test = scaler.transform(test_df.iloc[:, 1:])\n",
        "submission_predictions = model.predict(scaled_test)\n",
        "submission_predictions = np.round(submission_predictions).astype(int)\n",
        "submission_labels = {1: 'good', 0: 'bad'}\n",
        "submission_predictions = [submission_labels[pred[0]] for pred in submission_predictions]\n",
        "submission_df = pd.DataFrame({'ID': test_df['ID'], 'Quality': submission_predictions})\n",
        "submission_df.to_csv('submission.csv', index=False)\n",
        "submission_df"
      ],
      "metadata": {
        "execution": {
          "iopub.status.busy": "2024-02-25T11:58:22.169561Z",
          "iopub.execute_input": "2024-02-25T11:58:22.169971Z",
          "iopub.status.idle": "2024-02-25T11:58:22.410979Z",
          "shell.execute_reply.started": "2024-02-25T11:58:22.169941Z",
          "shell.execute_reply": "2024-02-25T11:58:22.409747Z"
        },
        "trusted": true,
        "id": "AoNuVZ4XKSRA"
      },
      "execution_count": null,
      "outputs": []
    },
    {
      "cell_type": "code",
      "source": [
        "from sklearn.metrics import accuracy_score, mean_absolute_error, precision_score, classification_report\n",
        "y_pred_train = model.predict(x_train)\n",
        "y_pred_train = np.round(y_pred_train).astype(int)"
      ],
      "metadata": {
        "execution": {
          "iopub.status.busy": "2024-02-25T11:58:25.639601Z",
          "iopub.execute_input": "2024-02-25T11:58:25.640876Z",
          "iopub.status.idle": "2024-02-25T11:58:25.898465Z",
          "shell.execute_reply.started": "2024-02-25T11:58:25.640828Z",
          "shell.execute_reply": "2024-02-25T11:58:25.897265Z"
        },
        "trusted": true,
        "id": "pKptOQlqKSRB"
      },
      "execution_count": null,
      "outputs": []
    },
    {
      "cell_type": "code",
      "source": [
        "acc=accuracy_score(y_train, y_pred_train)\n",
        "acc"
      ],
      "metadata": {
        "execution": {
          "iopub.status.busy": "2024-02-25T11:58:29.063549Z",
          "iopub.execute_input": "2024-02-25T11:58:29.064584Z",
          "iopub.status.idle": "2024-02-25T11:58:29.072093Z",
          "shell.execute_reply.started": "2024-02-25T11:58:29.064548Z",
          "shell.execute_reply": "2024-02-25T11:58:29.071039Z"
        },
        "trusted": true,
        "id": "fYQbexaSKSRB"
      },
      "execution_count": null,
      "outputs": []
    },
    {
      "cell_type": "code",
      "source": [
        "prec = precision_score(y_train, y_pred_train)\n",
        "prec"
      ],
      "metadata": {
        "execution": {
          "iopub.status.busy": "2024-02-25T11:58:32.355362Z",
          "iopub.execute_input": "2024-02-25T11:58:32.35578Z",
          "iopub.status.idle": "2024-02-25T11:58:32.365778Z",
          "shell.execute_reply.started": "2024-02-25T11:58:32.355749Z",
          "shell.execute_reply": "2024-02-25T11:58:32.364892Z"
        },
        "trusted": true,
        "id": "4RRveo6uKSRB"
      },
      "execution_count": null,
      "outputs": []
    },
    {
      "cell_type": "code",
      "source": [
        "mae = mean_absolute_error(y_train, y_pred_train)\n",
        "mae"
      ],
      "metadata": {
        "execution": {
          "iopub.status.busy": "2024-02-25T11:58:34.865633Z",
          "iopub.execute_input": "2024-02-25T11:58:34.866065Z",
          "iopub.status.idle": "2024-02-25T11:58:34.874248Z",
          "shell.execute_reply.started": "2024-02-25T11:58:34.866031Z",
          "shell.execute_reply": "2024-02-25T11:58:34.873034Z"
        },
        "trusted": true,
        "id": "4RYh5yPTKSRC"
      },
      "execution_count": null,
      "outputs": []
    },
    {
      "cell_type": "code",
      "source": [
        "report=classification_report(y_train, y_pred_train)\n",
        "report"
      ],
      "metadata": {
        "execution": {
          "iopub.status.busy": "2024-02-25T11:58:37.456822Z",
          "iopub.execute_input": "2024-02-25T11:58:37.457216Z",
          "iopub.status.idle": "2024-02-25T11:58:37.476504Z",
          "shell.execute_reply.started": "2024-02-25T11:58:37.457187Z",
          "shell.execute_reply": "2024-02-25T11:58:37.475662Z"
        },
        "trusted": true,
        "id": "GnbGACmaKSRC"
      },
      "execution_count": null,
      "outputs": []
    }
  ]
}